{
 "cells": [
  {
   "cell_type": "code",
   "execution_count": 20,
   "id": "ec06c3f1-82c8-436b-b7e7-dee6acded66a",
   "metadata": {},
   "outputs": [
    {
     "name": "stdout",
     "output_type": "stream",
     "text": [
      "the mean is 82.382\n",
      "standard deviation is 10.193467189005581\n",
      "the t0 value is 2.290087686017293\n",
      "t* for sample size 10 with certainty 0.95 is: 2.218221822182218\n",
      "False\n"
     ]
    }
   ],
   "source": [
    "import statistics\n",
    "import numpy as np\n",
    "\n",
    "test_scores= [92.64, 79.00, 84.79, 97.41, 93.68, 65.23, 84.50, 73.49, 73.97, 79.11]\n",
    "u0= 75 #initial condition for probability\n",
    "\n",
    "#part i)\n",
    "n=len(test_scores)\n",
    "mean= (92.64+ 79.00+ 84.79+ 97.41+ 93.68+ 65.23+ 84.50+ 73.49+ 73.97+ 79.11)/n #numerator done long hand bc I couldn't figure out how to abbr. it\n",
    "print(\"the mean is\",mean)\n",
    "\n",
    "st_dev=statistics.stdev(test_scores) #if loop was not working, so used built in st_dev function\n",
    "print (\"standard deviation is\", st_dev)\n",
    "\n",
    "#part ii)\n",
    "t0= (mean-u0)/(st_dev/(n**.5)) #using u0= 75\n",
    "print (\"the t0 value is\", t0)\n",
    "\n",
    "#part iii)\n",
    "def find_t_star(prob, nu, x_start=0, x_end=20, num_points=10000):\n",
    "# Define the x values\n",
    "    x = np.linspace(x_start, x_end, num_points)\n",
    "# Apply the density function to the x values\n",
    "    y = t_distribution_pdf(x, nu)\n",
    "# This next line is the integration (exercise: why does this work?)\n",
    "    cdf = np.cumsum(y) * (x[1] - x[0])\n",
    "    \n",
    "# Find the t-value where the cumulative probability reaches half of the required probability\n",
    "    target_half_prob = prob / 2\n",
    "    index = np.where(cdf >= target_half_prob)[0][0]\n",
    "    return x[index]\n",
    "\n",
    "print(\"t* for sample size\", n, \"with certainty\", certainty, \"is:\", t_star)\n",
    "\n",
    "def is_within_interval(t_star, t0):\n",
    "    certainty= 0.95 # Define certainty\n",
    "    t_star= find_t_star(certainty, n) #find t*\n",
    "    return -t_star <= t0 <= t_star\n",
    "    \n",
    "print(is_within_interval(t_star, t0)) #this is what tells us if it is true or false "
   ]
  },
  {
   "cell_type": "code",
   "execution_count": null,
   "id": "0b3dbafa-553e-4b11-b707-1888ee04cfae",
   "metadata": {},
   "outputs": [],
   "source": [
    "#therefore we reject the null hypothesis. We cannot conclude that µ=75 as t0 is not found within t*. \n",
    "#in conjunction with the mean value of 82.382 we can conclude that this method is beneficial to the students."
   ]
  }
 ],
 "metadata": {
  "kernelspec": {
   "display_name": "Python 3 (ipykernel)",
   "language": "python",
   "name": "python3"
  },
  "language_info": {
   "codemirror_mode": {
    "name": "ipython",
    "version": 3
   },
   "file_extension": ".py",
   "mimetype": "text/x-python",
   "name": "python",
   "nbconvert_exporter": "python",
   "pygments_lexer": "ipython3",
   "version": "3.11.4"
  }
 },
 "nbformat": 4,
 "nbformat_minor": 5
}
