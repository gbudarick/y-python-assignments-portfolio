{
 "cells": [
  {
   "cell_type": "code",
   "execution_count": 3,
   "id": "a2328da2-3f56-48bb-a788-598d5499270d",
   "metadata": {},
   "outputs": [
    {
     "name": "stdin",
     "output_type": "stream",
     "text": [
      "input number :) 0.5\n"
     ]
    },
    {
     "name": "stdout",
     "output_type": "stream",
     "text": [
      "0.46346726190476184 11 4.438920454545455e-05\n"
     ]
    }
   ],
   "source": [
    "given = float(input(\"input number :)\"))\n",
    "def SillyLittleFunction(x):\n",
    "    n=0\n",
    "    a=0\n",
    "    error_bound=(x**(2*n+1))/(2*n+1)\n",
    "\n",
    "    if x>=0 and x<=1:\n",
    "        while error_bound>0.0001:\n",
    "            n+=1\n",
    "            error_bound=(x**(2*n+1))/(2*n+1)\n",
    "        for i in range(0,n-1):\n",
    "            a+=((-1)**i*(x**(2*i+1)))/(2*i+1)\n",
    "        nn=(2*n+1)\n",
    "        print(a,nn,error_bound)\n",
    "\n",
    "    else:\n",
    "        print(\"you f-ed up, error\")\n",
    "SillyLittleFunction(given)"
   ]
  },
  {
   "cell_type": "code",
   "execution_count": null,
   "id": "28e95d56-0197-4cac-9c20-cee8aeab4500",
   "metadata": {},
   "outputs": [],
   "source": []
  }
 ],
 "metadata": {
  "kernelspec": {
   "display_name": "Python 3 (ipykernel)",
   "language": "python",
   "name": "python3"
  },
  "language_info": {
   "codemirror_mode": {
    "name": "ipython",
    "version": 3
   },
   "file_extension": ".py",
   "mimetype": "text/x-python",
   "name": "python",
   "nbconvert_exporter": "python",
   "pygments_lexer": "ipython3",
   "version": "3.11.4"
  }
 },
 "nbformat": 4,
 "nbformat_minor": 5
}
