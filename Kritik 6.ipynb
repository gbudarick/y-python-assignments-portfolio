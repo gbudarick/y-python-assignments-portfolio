{
 "cells": [
  {
   "cell_type": "code",
   "execution_count": null,
   "id": "5a181524-e3d7-49bd-a6e0-0056a5159f31",
   "metadata": {},
   "outputs": [],
   "source": [
    "import math as math \n",
    "\n",
    "def normal_density (mean, variance, x):\n",
    "    std_dev= math.sqrt (variance)\n",
    "    exponent= -((x-mean)**2)/(2*variance)\n",
    "    coefficient= 1/(math.sqrt(2*math.pi*variance))\n",
    "    result= coefficient*math.exp(exponent)\n",
    "    return result\n",
    "\n",
    "def integration (mean, variance, a, b, num_intervals=1000):\n",
    "    num_intervals= max(1, num_intervals)\n",
    "\n",
    "    interval_width= (b-a)/num_intervals\n",
    "\n",
    "    result= (normal_density(mean, variance, a)+normal_density(mean, variance, b))/2 \n",
    "\n",
    "    for i in range (1, num_intervals):\n",
    "        x_i= a+i*interval_width\n",
    "        result+= normal_density(mean, variance, x_i)\n",
    "    result*= interval_width\n",
    "\n",
    "    return result \n",
    "\n",
    "mean_value= 171\n",
    "variance_value= 7.2**2\n",
    "a_value= 162\n",
    "b_value- 190\n",
    "\n",
    "resuk"
   ]
  }
 ],
 "metadata": {
  "kernelspec": {
   "display_name": "Python 3 (ipykernel)",
   "language": "python",
   "name": "python3"
  },
  "language_info": {
   "codemirror_mode": {
    "name": "ipython",
    "version": 3
   },
   "file_extension": ".py",
   "mimetype": "text/x-python",
   "name": "python",
   "nbconvert_exporter": "python",
   "pygments_lexer": "ipython3",
   "version": "3.11.4"
  }
 },
 "nbformat": 4,
 "nbformat_minor": 5
}
