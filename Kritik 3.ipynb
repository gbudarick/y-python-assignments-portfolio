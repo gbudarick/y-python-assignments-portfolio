{
 "cells": [
  {
   "cell_type": "code",
   "execution_count": 45,
   "id": "9ebc2b23-2897-4b10-9161-9ea255281c81",
   "metadata": {},
   "outputs": [
    {
     "name": "stdout",
     "output_type": "stream",
     "text": [
      "0.9999999999\n",
      "1.0000000001\n"
     ]
    }
   ],
   "source": [
    "#3a)\n",
    "def f(x):\n",
    "    return x**2\n",
    "c=1\n",
    "E=0.1\n",
    "\n",
    "n=100\n",
    "x1=c\n",
    "x2=c\n",
    "delx=10**(-8)\n",
    "d=0.0000000001\n",
    "def fPrime(x):\n",
    "    return (f(x+delx-f(x-delx))/(2*delx))\n",
    "def L(x):\n",
    "    return f(c)+fPrime(c)*(x-c)\n",
    "\n",
    "for i in range(n):\n",
    "    x1=x1-d\n",
    "    if abs(f(x1)-L(x1)) <= E:\n",
    "        print(x1)\n",
    "        break\n",
    "else:\n",
    "    print(\"No x1 can be found\")\n",
    "for i in range(n):\n",
    "    x2=x2+d\n",
    "    if abs(f(x2)-L(x2)) <= E:\n",
    "        print(x2)\n",
    "        break\n",
    "else:\n",
    "    print(\"No x2 can be found\")"
   ]
  },
  {
   "cell_type": "code",
   "execution_count": 46,
   "id": "528aa37a-1450-48a9-a5f6-505960963b36",
   "metadata": {},
   "outputs": [
    {
     "name": "stdout",
     "output_type": "stream",
     "text": [
      "0.7071067810865476\n",
      "0.7071067812865476\n"
     ]
    }
   ],
   "source": [
    "#3b) \n",
    "import numpy as np\n",
    "import math as math\n",
    "\n",
    "def f(x):\n",
    "    return np.sin(x)\n",
    "c= ((math.sqrt(2))/2)\n",
    "E=0.05\n",
    "\n",
    "n=100\n",
    "x1=c\n",
    "x2=c\n",
    "delx=10**(-8)\n",
    "d=0.0000000001\n",
    "def fPrime(x):\n",
    "    return (f(x+delx-f(x-delx))/(2*delx))\n",
    "def L(x):\n",
    "    return f(c)+fPrime(c)*(x-c)\n",
    "\n",
    "for i in range(n):\n",
    "    x1=x1-d\n",
    "    if abs(f(x1)-L(x1)) <= E:\n",
    "        print(x1)\n",
    "        break\n",
    "else:\n",
    "    print(\"No x1 can be found\")\n",
    "for i in range(n):\n",
    "    x2=x2+d\n",
    "    if abs(f(x2)-L(x2)) <= E:\n",
    "        print(x2)\n",
    "        break\n",
    "else:\n",
    "    print(\"No x2 can be found\")"
   ]
  },
  {
   "cell_type": "code",
   "execution_count": 50,
   "id": "b3590a92-ae3b-460f-9bea-d56c4e44b1a3",
   "metadata": {},
   "outputs": [
    {
     "name": "stdout",
     "output_type": "stream",
     "text": [
      "-1e-10\n",
      "1e-10\n"
     ]
    }
   ],
   "source": [
    "#3c) \n",
    "import numpy as np\n",
    "\n",
    "def f(x):\n",
    "    return np.exp(x)\n",
    "c= 0\n",
    "E=0.01\n",
    "\n",
    "n=100\n",
    "x1=c\n",
    "x2=c\n",
    "delx=10**(-8)\n",
    "d=0.0000000001\n",
    "def fPrime(x):\n",
    "    return (f(x+delx-f(x-delx))/(2*delx))\n",
    "def L(x):\n",
    "    return f(c)+fPrime(c)*(x-c)\n",
    "\n",
    "for i in range(n):\n",
    "    x1=x1-d\n",
    "    if abs(f(x1)-L(x1)) <= E:\n",
    "        print(x1)\n",
    "        break\n",
    "else:\n",
    "    print(\"No x1 can be found\")\n",
    "for i in range(n):\n",
    "    x2=x2+d\n",
    "    if abs(f(x2)-L(x2)) <= E:\n",
    "        print(x2)\n",
    "        break\n",
    "else:\n",
    "    print(\"No x2 can be found\")"
   ]
  },
  {
   "cell_type": "code",
   "execution_count": null,
   "id": "c7dd9404-8870-4c5c-83f9-d6618fa2e3bc",
   "metadata": {},
   "outputs": [],
   "source": []
  }
 ],
 "metadata": {
  "kernelspec": {
   "display_name": "Python 3 (ipykernel)",
   "language": "python",
   "name": "python3"
  },
  "language_info": {
   "codemirror_mode": {
    "name": "ipython",
    "version": 3
   },
   "file_extension": ".py",
   "mimetype": "text/x-python",
   "name": "python",
   "nbconvert_exporter": "python",
   "pygments_lexer": "ipython3",
   "version": "3.11.4"
  }
 },
 "nbformat": 4,
 "nbformat_minor": 5
}
