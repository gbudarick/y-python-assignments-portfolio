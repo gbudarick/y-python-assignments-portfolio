{
 "cells": [
  {
   "cell_type": "code",
   "execution_count": 4,
   "id": "5d43fe1d-89e1-48f4-87af-35182d1ec7d6",
   "metadata": {},
   "outputs": [
    {
     "name": "stdin",
     "output_type": "stream",
     "text": [
      "input number :) 0.5\n"
     ]
    },
    {
     "data": {
      "text/plain": [
       "1.0"
      ]
     },
     "execution_count": 4,
     "metadata": {},
     "output_type": "execute_result"
    }
   ],
   "source": [
    "given = float(input(\"input number :)\"))\n",
    "import numpy as np\n",
    "def funny(x):\n",
    "    if x<=-1:\n",
    "        return 0\n",
    "    elif x>=1:\n",
    "        return 0\n",
    "    else:\n",
    "        return np.exp(1-(1/(1-x**(10**250))))\n",
    "funny(given)"
   ]
  },
  {
   "cell_type": "code",
   "execution_count": 4,
   "id": "6410558d-d09f-49c8-870f-ca2205868c6f",
   "metadata": {},
   "outputs": [],
   "source": [
    "#Recall from lectures that we can use the bisection method to find roots of functions that are continuous on a closed interval [a, b]. Write a\n",
    "#python function roots(f,a,b) that takes in three values: f, a function (functions in python can take other functions are arguments),\n",
    "#and values a < b. The function should use a sort of loop to find at\n",
    "#least one solution of f(x) = 0 on the interval [a, b] (if it exists) up to\n",
    "#10 decimal places. Test your program on the following test cases:\n",
    "#• f(x) = e^x + ln(x) on [0, 1]\n",
    "#• f(x) = arctan(x) − x^2 on [0, 2]\n",
    "#• f(x) = sin(x)/ln(x) on [3, 4]\n",
    "#• f(x) = ln(cos(x)) on [5, 7].\n"
   ]
  },
  {
   "cell_type": "code",
   "execution_count": null,
   "id": "cfa7a400-b24d-47bd-9672-8dd4cc6472a2",
   "metadata": {},
   "outputs": [],
   "source": [
    "#define (f,a,b)\n",
    "#imort numpy as np\n",
    "#if f(a) > 0 and F(B) <0 or opposite, then take the midpoint (= a+b/2), within that were saying that if f(a) to f(midpoint) changes from pos to neg\n",
    "#then b= the midpoint, elif saying \"but if that isnt true, check if changes from pos to neg from f(midpoint) to f(b) then a= new midpoint, elif ==0, \n",
    "#print found exact solution, return midpoint, last else (if nothing else works) print \"bisection method fails\" , at very end return midpoint at same line of first if\n",
    "#put if you put inside in a while loop, to loop until it gives you an exact number, while abs b-a >= 10^-10 run this code \n",
    "#at the end print bisection/ whatever you named it, a function of the two limiting things\n",
    "#f_1=lambda x np.arctan, np.sin, np.exp1**x for ln "
   ]
  },
  {
   "cell_type": "code",
   "execution_count": 1,
   "id": "2b43945f-3956-4975-bf4d-b73bcaa4d929",
   "metadata": {},
   "outputs": [
    {
     "ename": "NameError",
     "evalue": "name 'x' is not defined",
     "output_type": "error",
     "traceback": [
      "\u001b[0;31m---------------------------------------------------------------------------\u001b[0m",
      "\u001b[0;31mNameError\u001b[0m                                 Traceback (most recent call last)",
      "Cell \u001b[0;32mIn[1], line 15\u001b[0m\n\u001b[1;32m     13\u001b[0m         \u001b[38;5;28;01melse\u001b[39;00m:\n\u001b[1;32m     14\u001b[0m             \u001b[38;5;28mprint\u001b[39m(\u001b[38;5;124m\"\u001b[39m\u001b[38;5;124mbisection method failed\u001b[39m\u001b[38;5;124m\"\u001b[39m)\n\u001b[0;32m---> 15\u001b[0m f_1\u001b[38;5;241m=\u001b[39mmath\u001b[38;5;241m.\u001b[39msin(\u001b[43mx\u001b[49m)\u001b[38;5;241m/\u001b[39mmath\u001b[38;5;241m.\u001b[39mln(x)\n\u001b[1;32m     16\u001b[0m \u001b[38;5;28mprint\u001b[39m(func(f_1,\u001b[38;5;241m3\u001b[39m,\u001b[38;5;241m4\u001b[39m))\n",
      "\u001b[0;31mNameError\u001b[0m: name 'x' is not defined"
     ]
    }
   ],
   "source": [
    "import numpy as np\n",
    "import math as math\n",
    "def func(f,a,b):\n",
    "    while b-a >= 10**-10:\n",
    "        if f(a)>0 and f(b)<0:\n",
    "            mid=a+b/2\n",
    "            if f(a)>0 and f(mid)<0:\n",
    "                b=m\n",
    "            elif m==0:\n",
    "                print(\"root found\") \n",
    "            else:\n",
    "                a=m \n",
    "        else:\n",
    "            print(\"bisection method failed\")\n",
    "f_1=math.sin(x)/math.ln(x)\n",
    "print(func(f_1,3,4))"
   ]
  },
  {
   "cell_type": "code",
   "execution_count": null,
   "id": "0ecc5b9b-3842-4104-ae77-ab9cc39bded3",
   "metadata": {},
   "outputs": [],
   "source": []
  }
 ],
 "metadata": {
  "kernelspec": {
   "display_name": "Python 3 (ipykernel)",
   "language": "python",
   "name": "python3"
  },
  "language_info": {
   "codemirror_mode": {
    "name": "ipython",
    "version": 3
   },
   "file_extension": ".py",
   "mimetype": "text/x-python",
   "name": "python",
   "nbconvert_exporter": "python",
   "pygments_lexer": "ipython3",
   "version": "3.11.4"
  }
 },
 "nbformat": 4,
 "nbformat_minor": 5
}
